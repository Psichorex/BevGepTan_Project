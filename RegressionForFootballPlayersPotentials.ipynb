{
 "cells": [
  {
   "cell_type": "code",
   "execution_count": 59,
   "id": "bee4a29c",
   "metadata": {},
   "outputs": [],
   "source": [
    "import numpy as np"
   ]
  },
  {
   "cell_type": "code",
   "execution_count": 60,
   "id": "8437600f",
   "metadata": {},
   "outputs": [],
   "source": [
    "from sklearn.linear_model import Lasso"
   ]
  },
  {
   "cell_type": "code",
   "execution_count": 61,
   "id": "c8541edb",
   "metadata": {},
   "outputs": [],
   "source": [
    "from sklearn.model_selection import train_test_split, cross_val_score, cross_validate"
   ]
  },
  {
   "cell_type": "code",
   "execution_count": 62,
   "id": "c88f3a57",
   "metadata": {},
   "outputs": [],
   "source": [
    "import pandas as pd"
   ]
  },
  {
   "cell_type": "code",
   "execution_count": 63,
   "id": "01cf6597",
   "metadata": {},
   "outputs": [],
   "source": [
    "from sklearn.metrics import mean_squared_error"
   ]
  },
  {
   "cell_type": "code",
   "execution_count": 64,
   "id": "f1df51fc",
   "metadata": {},
   "outputs": [],
   "source": [
    "import streamlit as st"
   ]
  },
  {
   "cell_type": "code",
   "execution_count": 65,
   "id": "3884fd03",
   "metadata": {},
   "outputs": [],
   "source": [
    "database = pd.read_csv('fifa_23_280922.csv') "
   ]
  },
  {
   "cell_type": "code",
   "execution_count": 66,
   "id": "96c722eb",
   "metadata": {},
   "outputs": [],
   "source": [
    "database = database.apply(lambda x: pd.to_numeric(x, errors='coerce')).dropna(axis=1, how='all')"
   ]
  },
  {
   "cell_type": "code",
   "execution_count": 67,
   "id": "a8dc1188",
   "metadata": {},
   "outputs": [],
   "source": [
    "database  = database.drop('Taille', axis = 1)"
   ]
  },
  {
   "cell_type": "code",
   "execution_count": 68,
   "id": "49b6d864",
   "metadata": {},
   "outputs": [],
   "source": [
    "database = database.drop('Id', axis = 1)"
   ]
  },
  {
   "cell_type": "code",
   "execution_count": 69,
   "id": "f3e90c4a",
   "metadata": {},
   "outputs": [],
   "source": [
    "database = database.drop('Mauvais pied', axis = 1)"
   ]
  },
  {
   "cell_type": "code",
   "execution_count": 70,
   "id": "53975c04",
   "metadata": {},
   "outputs": [],
   "source": [
    "database = database.drop('Gestes techniques', axis = 1)"
   ]
  },
  {
   "cell_type": "code",
   "execution_count": 71,
   "id": "ee57cba4",
   "metadata": {},
   "outputs": [
    {
     "data": {
      "text/html": [
       "<div>\n",
       "<style scoped>\n",
       "    .dataframe tbody tr th:only-of-type {\n",
       "        vertical-align: middle;\n",
       "    }\n",
       "\n",
       "    .dataframe tbody tr th {\n",
       "        vertical-align: top;\n",
       "    }\n",
       "\n",
       "    .dataframe thead th {\n",
       "        text-align: right;\n",
       "    }\n",
       "</style>\n",
       "<table border=\"1\" class=\"dataframe\">\n",
       "  <thead>\n",
       "    <tr style=\"text-align: right;\">\n",
       "      <th></th>\n",
       "      <th>Général</th>\n",
       "      <th>Potentiel</th>\n",
       "      <th>Performance</th>\n",
       "      <th>Centres</th>\n",
       "      <th>Finition</th>\n",
       "      <th>Precision tete</th>\n",
       "      <th>Passes courtes</th>\n",
       "      <th>Volee</th>\n",
       "      <th>Dribbles</th>\n",
       "      <th>Effet</th>\n",
       "      <th>...</th>\n",
       "      <th>Penalty</th>\n",
       "      <th>Calme</th>\n",
       "      <th>Conscience defensive</th>\n",
       "      <th>Tacle debout</th>\n",
       "      <th>Tacle glisse</th>\n",
       "      <th>Plongeon</th>\n",
       "      <th>Jeu main</th>\n",
       "      <th>Jeu pied</th>\n",
       "      <th>Placement.1</th>\n",
       "      <th>Reflexes</th>\n",
       "    </tr>\n",
       "  </thead>\n",
       "  <tbody>\n",
       "    <tr>\n",
       "      <th>0</th>\n",
       "      <td>91</td>\n",
       "      <td>95</td>\n",
       "      <td>93.0</td>\n",
       "      <td>78</td>\n",
       "      <td>93</td>\n",
       "      <td>72</td>\n",
       "      <td>85</td>\n",
       "      <td>83</td>\n",
       "      <td>93</td>\n",
       "      <td>80</td>\n",
       "      <td>...</td>\n",
       "      <td>80</td>\n",
       "      <td>88</td>\n",
       "      <td>26</td>\n",
       "      <td>34</td>\n",
       "      <td>32</td>\n",
       "      <td>13</td>\n",
       "      <td>5</td>\n",
       "      <td>7</td>\n",
       "      <td>11</td>\n",
       "      <td>6</td>\n",
       "    </tr>\n",
       "    <tr>\n",
       "      <th>1</th>\n",
       "      <td>91</td>\n",
       "      <td>91</td>\n",
       "      <td>91.0</td>\n",
       "      <td>71</td>\n",
       "      <td>94</td>\n",
       "      <td>91</td>\n",
       "      <td>84</td>\n",
       "      <td>89</td>\n",
       "      <td>85</td>\n",
       "      <td>79</td>\n",
       "      <td>...</td>\n",
       "      <td>90</td>\n",
       "      <td>88</td>\n",
       "      <td>35</td>\n",
       "      <td>42</td>\n",
       "      <td>19</td>\n",
       "      <td>15</td>\n",
       "      <td>6</td>\n",
       "      <td>12</td>\n",
       "      <td>8</td>\n",
       "      <td>10</td>\n",
       "    </tr>\n",
       "    <tr>\n",
       "      <th>2</th>\n",
       "      <td>91</td>\n",
       "      <td>91</td>\n",
       "      <td>91.0</td>\n",
       "      <td>75</td>\n",
       "      <td>92</td>\n",
       "      <td>90</td>\n",
       "      <td>89</td>\n",
       "      <td>88</td>\n",
       "      <td>87</td>\n",
       "      <td>82</td>\n",
       "      <td>...</td>\n",
       "      <td>84</td>\n",
       "      <td>90</td>\n",
       "      <td>43</td>\n",
       "      <td>24</td>\n",
       "      <td>18</td>\n",
       "      <td>13</td>\n",
       "      <td>11</td>\n",
       "      <td>5</td>\n",
       "      <td>5</td>\n",
       "      <td>7</td>\n",
       "    </tr>\n",
       "    <tr>\n",
       "      <th>3</th>\n",
       "      <td>91</td>\n",
       "      <td>91</td>\n",
       "      <td>91.0</td>\n",
       "      <td>84</td>\n",
       "      <td>90</td>\n",
       "      <td>70</td>\n",
       "      <td>91</td>\n",
       "      <td>88</td>\n",
       "      <td>95</td>\n",
       "      <td>93</td>\n",
       "      <td>...</td>\n",
       "      <td>75</td>\n",
       "      <td>96</td>\n",
       "      <td>20</td>\n",
       "      <td>35</td>\n",
       "      <td>24</td>\n",
       "      <td>6</td>\n",
       "      <td>11</td>\n",
       "      <td>15</td>\n",
       "      <td>14</td>\n",
       "      <td>8</td>\n",
       "    </tr>\n",
       "    <tr>\n",
       "      <th>4</th>\n",
       "      <td>91</td>\n",
       "      <td>91</td>\n",
       "      <td>91.0</td>\n",
       "      <td>94</td>\n",
       "      <td>85</td>\n",
       "      <td>55</td>\n",
       "      <td>93</td>\n",
       "      <td>83</td>\n",
       "      <td>88</td>\n",
       "      <td>89</td>\n",
       "      <td>...</td>\n",
       "      <td>83</td>\n",
       "      <td>89</td>\n",
       "      <td>68</td>\n",
       "      <td>65</td>\n",
       "      <td>53</td>\n",
       "      <td>15</td>\n",
       "      <td>13</td>\n",
       "      <td>5</td>\n",
       "      <td>10</td>\n",
       "      <td>13</td>\n",
       "    </tr>\n",
       "  </tbody>\n",
       "</table>\n",
       "<p>5 rows × 37 columns</p>\n",
       "</div>"
      ],
      "text/plain": [
       "   Général  Potentiel  Performance  Centres  Finition  Precision tete  \\\n",
       "0       91         95         93.0       78        93              72   \n",
       "1       91         91         91.0       71        94              91   \n",
       "2       91         91         91.0       75        92              90   \n",
       "3       91         91         91.0       84        90              70   \n",
       "4       91         91         91.0       94        85              55   \n",
       "\n",
       "   Passes courtes  Volee  Dribbles  Effet  ...  Penalty  Calme  \\\n",
       "0              85     83        93     80  ...       80     88   \n",
       "1              84     89        85     79  ...       90     88   \n",
       "2              89     88        87     82  ...       84     90   \n",
       "3              91     88        95     93  ...       75     96   \n",
       "4              93     83        88     89  ...       83     89   \n",
       "\n",
       "   Conscience defensive  Tacle debout  Tacle glisse  Plongeon  Jeu main  \\\n",
       "0                    26            34            32        13         5   \n",
       "1                    35            42            19        15         6   \n",
       "2                    43            24            18        13        11   \n",
       "3                    20            35            24         6        11   \n",
       "4                    68            65            53        15        13   \n",
       "\n",
       "   Jeu pied  Placement.1  Reflexes  \n",
       "0         7           11         6  \n",
       "1        12            8        10  \n",
       "2         5            5         7  \n",
       "3        15           14         8  \n",
       "4         5           10        13  \n",
       "\n",
       "[5 rows x 37 columns]"
      ]
     },
     "execution_count": 71,
     "metadata": {},
     "output_type": "execute_result"
    }
   ],
   "source": [
    "database.head()"
   ]
  },
  {
   "cell_type": "code",
   "execution_count": 72,
   "id": "589ac6da",
   "metadata": {},
   "outputs": [],
   "source": [
    "X = database.drop('Potentiel', axis = 1)"
   ]
  },
  {
   "cell_type": "code",
   "execution_count": 73,
   "id": "724f94d5",
   "metadata": {},
   "outputs": [],
   "source": [
    "features = X.keys()"
   ]
  },
  {
   "cell_type": "code",
   "execution_count": 74,
   "id": "d54d9699",
   "metadata": {},
   "outputs": [
    {
     "name": "stdout",
     "output_type": "stream",
     "text": [
      "Index(['Général', 'Performance', 'Centres', 'Finition', 'Precision tete',\n",
      "       'Passes courtes', 'Volee', 'Dribbles', 'Effet', 'PCF', 'Passes longues',\n",
      "       'Controle', 'Acceleration', 'Vitesse', 'Agilite', 'Reactivite',\n",
      "       'Equilibre', 'Puissance frappe', 'Detente', 'Endurance', 'Force',\n",
      "       'Tirs de loin', 'Agressivite', 'Interceptions', 'Placement', 'Vista',\n",
      "       'Penalty', 'Calme', 'Conscience defensive', 'Tacle debout',\n",
      "       'Tacle glisse', 'Plongeon', 'Jeu main', 'Jeu pied', 'Placement.1',\n",
      "       'Reflexes'],\n",
      "      dtype='object')\n"
     ]
    }
   ],
   "source": [
    "print(features)"
   ]
  },
  {
   "cell_type": "code",
   "execution_count": 75,
   "id": "4ecd3b27",
   "metadata": {},
   "outputs": [
    {
     "data": {
      "text/html": [
       "<div>\n",
       "<style scoped>\n",
       "    .dataframe tbody tr th:only-of-type {\n",
       "        vertical-align: middle;\n",
       "    }\n",
       "\n",
       "    .dataframe tbody tr th {\n",
       "        vertical-align: top;\n",
       "    }\n",
       "\n",
       "    .dataframe thead th {\n",
       "        text-align: right;\n",
       "    }\n",
       "</style>\n",
       "<table border=\"1\" class=\"dataframe\">\n",
       "  <thead>\n",
       "    <tr style=\"text-align: right;\">\n",
       "      <th></th>\n",
       "      <th>Général</th>\n",
       "      <th>Performance</th>\n",
       "      <th>Centres</th>\n",
       "      <th>Finition</th>\n",
       "      <th>Precision tete</th>\n",
       "      <th>Passes courtes</th>\n",
       "      <th>Volee</th>\n",
       "      <th>Dribbles</th>\n",
       "      <th>Effet</th>\n",
       "      <th>PCF</th>\n",
       "      <th>...</th>\n",
       "      <th>Penalty</th>\n",
       "      <th>Calme</th>\n",
       "      <th>Conscience defensive</th>\n",
       "      <th>Tacle debout</th>\n",
       "      <th>Tacle glisse</th>\n",
       "      <th>Plongeon</th>\n",
       "      <th>Jeu main</th>\n",
       "      <th>Jeu pied</th>\n",
       "      <th>Placement.1</th>\n",
       "      <th>Reflexes</th>\n",
       "    </tr>\n",
       "  </thead>\n",
       "  <tbody>\n",
       "    <tr>\n",
       "      <th>0</th>\n",
       "      <td>91</td>\n",
       "      <td>93.0</td>\n",
       "      <td>78</td>\n",
       "      <td>93</td>\n",
       "      <td>72</td>\n",
       "      <td>85</td>\n",
       "      <td>83</td>\n",
       "      <td>93</td>\n",
       "      <td>80</td>\n",
       "      <td>69</td>\n",
       "      <td>...</td>\n",
       "      <td>80</td>\n",
       "      <td>88</td>\n",
       "      <td>26</td>\n",
       "      <td>34</td>\n",
       "      <td>32</td>\n",
       "      <td>13</td>\n",
       "      <td>5</td>\n",
       "      <td>7</td>\n",
       "      <td>11</td>\n",
       "      <td>6</td>\n",
       "    </tr>\n",
       "    <tr>\n",
       "      <th>1</th>\n",
       "      <td>91</td>\n",
       "      <td>91.0</td>\n",
       "      <td>71</td>\n",
       "      <td>94</td>\n",
       "      <td>91</td>\n",
       "      <td>84</td>\n",
       "      <td>89</td>\n",
       "      <td>85</td>\n",
       "      <td>79</td>\n",
       "      <td>85</td>\n",
       "      <td>...</td>\n",
       "      <td>90</td>\n",
       "      <td>88</td>\n",
       "      <td>35</td>\n",
       "      <td>42</td>\n",
       "      <td>19</td>\n",
       "      <td>15</td>\n",
       "      <td>6</td>\n",
       "      <td>12</td>\n",
       "      <td>8</td>\n",
       "      <td>10</td>\n",
       "    </tr>\n",
       "    <tr>\n",
       "      <th>2</th>\n",
       "      <td>91</td>\n",
       "      <td>91.0</td>\n",
       "      <td>75</td>\n",
       "      <td>92</td>\n",
       "      <td>90</td>\n",
       "      <td>89</td>\n",
       "      <td>88</td>\n",
       "      <td>87</td>\n",
       "      <td>82</td>\n",
       "      <td>73</td>\n",
       "      <td>...</td>\n",
       "      <td>84</td>\n",
       "      <td>90</td>\n",
       "      <td>43</td>\n",
       "      <td>24</td>\n",
       "      <td>18</td>\n",
       "      <td>13</td>\n",
       "      <td>11</td>\n",
       "      <td>5</td>\n",
       "      <td>5</td>\n",
       "      <td>7</td>\n",
       "    </tr>\n",
       "    <tr>\n",
       "      <th>3</th>\n",
       "      <td>91</td>\n",
       "      <td>91.0</td>\n",
       "      <td>84</td>\n",
       "      <td>90</td>\n",
       "      <td>70</td>\n",
       "      <td>91</td>\n",
       "      <td>88</td>\n",
       "      <td>95</td>\n",
       "      <td>93</td>\n",
       "      <td>93</td>\n",
       "      <td>...</td>\n",
       "      <td>75</td>\n",
       "      <td>96</td>\n",
       "      <td>20</td>\n",
       "      <td>35</td>\n",
       "      <td>24</td>\n",
       "      <td>6</td>\n",
       "      <td>11</td>\n",
       "      <td>15</td>\n",
       "      <td>14</td>\n",
       "      <td>8</td>\n",
       "    </tr>\n",
       "    <tr>\n",
       "      <th>4</th>\n",
       "      <td>91</td>\n",
       "      <td>91.0</td>\n",
       "      <td>94</td>\n",
       "      <td>85</td>\n",
       "      <td>55</td>\n",
       "      <td>93</td>\n",
       "      <td>83</td>\n",
       "      <td>88</td>\n",
       "      <td>89</td>\n",
       "      <td>83</td>\n",
       "      <td>...</td>\n",
       "      <td>83</td>\n",
       "      <td>89</td>\n",
       "      <td>68</td>\n",
       "      <td>65</td>\n",
       "      <td>53</td>\n",
       "      <td>15</td>\n",
       "      <td>13</td>\n",
       "      <td>5</td>\n",
       "      <td>10</td>\n",
       "      <td>13</td>\n",
       "    </tr>\n",
       "  </tbody>\n",
       "</table>\n",
       "<p>5 rows × 36 columns</p>\n",
       "</div>"
      ],
      "text/plain": [
       "   Général  Performance  Centres  Finition  Precision tete  Passes courtes  \\\n",
       "0       91         93.0       78        93              72              85   \n",
       "1       91         91.0       71        94              91              84   \n",
       "2       91         91.0       75        92              90              89   \n",
       "3       91         91.0       84        90              70              91   \n",
       "4       91         91.0       94        85              55              93   \n",
       "\n",
       "   Volee  Dribbles  Effet  PCF  ...  Penalty  Calme  Conscience defensive  \\\n",
       "0     83        93     80   69  ...       80     88                    26   \n",
       "1     89        85     79   85  ...       90     88                    35   \n",
       "2     88        87     82   73  ...       84     90                    43   \n",
       "3     88        95     93   93  ...       75     96                    20   \n",
       "4     83        88     89   83  ...       83     89                    68   \n",
       "\n",
       "   Tacle debout  Tacle glisse  Plongeon  Jeu main  Jeu pied  Placement.1  \\\n",
       "0            34            32        13         5         7           11   \n",
       "1            42            19        15         6        12            8   \n",
       "2            24            18        13        11         5            5   \n",
       "3            35            24         6        11        15           14   \n",
       "4            65            53        15        13         5           10   \n",
       "\n",
       "   Reflexes  \n",
       "0         6  \n",
       "1        10  \n",
       "2         7  \n",
       "3         8  \n",
       "4        13  \n",
       "\n",
       "[5 rows x 36 columns]"
      ]
     },
     "execution_count": 75,
     "metadata": {},
     "output_type": "execute_result"
    }
   ],
   "source": [
    "X.head()"
   ]
  },
  {
   "cell_type": "code",
   "execution_count": 76,
   "id": "42be3a62",
   "metadata": {},
   "outputs": [],
   "source": [
    "y = database['Potentiel']"
   ]
  },
  {
   "cell_type": "code",
   "execution_count": 78,
   "id": "355b6454",
   "metadata": {},
   "outputs": [
    {
     "data": {
      "text/plain": [
       "0    95\n",
       "1    91\n",
       "2    91\n",
       "3    91\n",
       "4    91\n",
       "Name: Potentiel, dtype: int64"
      ]
     },
     "execution_count": 78,
     "metadata": {},
     "output_type": "execute_result"
    }
   ],
   "source": [
    "y.head()"
   ]
  },
  {
   "cell_type": "code",
   "execution_count": 79,
   "id": "20ba07e9",
   "metadata": {},
   "outputs": [],
   "source": [
    "X_train, X_test, y_train, y_test = train_test_split(X, y, test_size=0.33, random_state = 42)"
   ]
  },
  {
   "cell_type": "code",
   "execution_count": 80,
   "id": "36b60140",
   "metadata": {},
   "outputs": [],
   "source": [
    "lasso = Lasso(max_iter=10000, tol= 0.001, alpha = 1.0)"
   ]
  },
  {
   "cell_type": "code",
   "execution_count": 81,
   "id": "06d9f987",
   "metadata": {},
   "outputs": [
    {
     "data": {
      "text/plain": [
       "Lasso(max_iter=10000, tol=0.001)"
      ]
     },
     "execution_count": 81,
     "metadata": {},
     "output_type": "execute_result"
    }
   ],
   "source": [
    "lasso.fit(X_train, y_train)"
   ]
  },
  {
   "cell_type": "code",
   "execution_count": 82,
   "id": "8e5e927a",
   "metadata": {},
   "outputs": [],
   "source": [
    "y_pred = lasso.predict(X_test)"
   ]
  },
  {
   "cell_type": "code",
   "execution_count": 83,
   "id": "6441b1fb",
   "metadata": {},
   "outputs": [
    {
     "data": {
      "text/plain": [
       "array([73.55957947, 73.4180258 , 78.10429977, ..., 66.66378986,\n",
       "       71.73444973, 83.32485322])"
      ]
     },
     "execution_count": 83,
     "metadata": {},
     "output_type": "execute_result"
    }
   ],
   "source": [
    "y_pred"
   ]
  },
  {
   "cell_type": "code",
   "execution_count": 84,
   "id": "4da0b797",
   "metadata": {},
   "outputs": [],
   "source": [
    "predFrame = pd.DataFrame(y_pred)"
   ]
  },
  {
   "cell_type": "code",
   "execution_count": 85,
   "id": "d8a1c8a7",
   "metadata": {},
   "outputs": [
    {
     "data": {
      "text/html": [
       "<div>\n",
       "<style scoped>\n",
       "    .dataframe tbody tr th:only-of-type {\n",
       "        vertical-align: middle;\n",
       "    }\n",
       "\n",
       "    .dataframe tbody tr th {\n",
       "        vertical-align: top;\n",
       "    }\n",
       "\n",
       "    .dataframe thead th {\n",
       "        text-align: right;\n",
       "    }\n",
       "</style>\n",
       "<table border=\"1\" class=\"dataframe\">\n",
       "  <thead>\n",
       "    <tr style=\"text-align: right;\">\n",
       "      <th></th>\n",
       "      <th>0</th>\n",
       "    </tr>\n",
       "  </thead>\n",
       "  <tbody>\n",
       "    <tr>\n",
       "      <th>0</th>\n",
       "      <td>73.559579</td>\n",
       "    </tr>\n",
       "    <tr>\n",
       "      <th>1</th>\n",
       "      <td>73.418026</td>\n",
       "    </tr>\n",
       "    <tr>\n",
       "      <th>2</th>\n",
       "      <td>78.104300</td>\n",
       "    </tr>\n",
       "    <tr>\n",
       "      <th>3</th>\n",
       "      <td>67.780556</td>\n",
       "    </tr>\n",
       "    <tr>\n",
       "      <th>4</th>\n",
       "      <td>74.999030</td>\n",
       "    </tr>\n",
       "  </tbody>\n",
       "</table>\n",
       "</div>"
      ],
      "text/plain": [
       "           0\n",
       "0  73.559579\n",
       "1  73.418026\n",
       "2  78.104300\n",
       "3  67.780556\n",
       "4  74.999030"
      ]
     },
     "execution_count": 85,
     "metadata": {},
     "output_type": "execute_result"
    }
   ],
   "source": [
    "predFrame.head()"
   ]
  },
  {
   "cell_type": "code",
   "execution_count": 86,
   "id": "1745f9bd",
   "metadata": {},
   "outputs": [],
   "source": [
    "crossVal = cross_validate(lasso, X, y, cv=10, return_train_score=True)"
   ]
  },
  {
   "cell_type": "code",
   "execution_count": 87,
   "id": "025187bd",
   "metadata": {},
   "outputs": [
    {
     "name": "stdout",
     "output_type": "stream",
     "text": [
      "0.9819610190939783\n"
     ]
    }
   ],
   "source": [
    "print(np.average(crossVal['train_score']))"
   ]
  },
  {
   "cell_type": "code",
   "execution_count": 88,
   "id": "b8bbee6b",
   "metadata": {},
   "outputs": [
    {
     "name": "stdout",
     "output_type": "stream",
     "text": [
      "0.9144872293300155\n"
     ]
    }
   ],
   "source": [
    "print(np.average(crossVal['test_score']))"
   ]
  },
  {
   "cell_type": "code",
   "execution_count": 92,
   "id": "9171a460",
   "metadata": {},
   "outputs": [],
   "source": [
    "player = [99, 99, 99, 99, 99, 99, 99, 99, 81, 99, 34, 99,99, 99, 99, 66, 67, 79,81, 23, 34, 66, 67, 79,81, 23, 34, 66, 67, 79,81, 23, 34, 66, 67, 79]"
   ]
  },
  {
   "cell_type": "code",
   "execution_count": 97,
   "id": "2acb925c",
   "metadata": {},
   "outputs": [
    {
     "data": {
      "text/plain": [
       "36"
      ]
     },
     "execution_count": 97,
     "metadata": {},
     "output_type": "execute_result"
    }
   ],
   "source": [
    "len(player)"
   ]
  },
  {
   "cell_type": "code",
   "execution_count": 93,
   "id": "cf850db8",
   "metadata": {},
   "outputs": [],
   "source": [
    "array = np.array(player)"
   ]
  },
  {
   "cell_type": "code",
   "execution_count": 94,
   "id": "3e89b438",
   "metadata": {},
   "outputs": [],
   "source": [
    "df = pd.DataFrame(array.reshape(-1, len(array)), columns=features)"
   ]
  },
  {
   "cell_type": "code",
   "execution_count": 95,
   "id": "df9c0ade",
   "metadata": {},
   "outputs": [],
   "source": [
    "playerPredict = lasso.predict(df)"
   ]
  },
  {
   "cell_type": "code",
   "execution_count": 96,
   "id": "53035a80",
   "metadata": {},
   "outputs": [
    {
     "data": {
      "text/plain": [
       "array([99.42262994])"
      ]
     },
     "execution_count": 96,
     "metadata": {},
     "output_type": "execute_result"
    }
   ],
   "source": [
    "playerPredict"
   ]
  },
  {
   "cell_type": "code",
   "execution_count": null,
   "id": "90bf3029",
   "metadata": {},
   "outputs": [],
   "source": []
  }
 ],
 "metadata": {
  "kernelspec": {
   "display_name": "Python 3 (ipykernel)",
   "language": "python",
   "name": "python3"
  },
  "language_info": {
   "codemirror_mode": {
    "name": "ipython",
    "version": 3
   },
   "file_extension": ".py",
   "mimetype": "text/x-python",
   "name": "python",
   "nbconvert_exporter": "python",
   "pygments_lexer": "ipython3",
   "version": "3.9.13"
  }
 },
 "nbformat": 4,
 "nbformat_minor": 5
}
