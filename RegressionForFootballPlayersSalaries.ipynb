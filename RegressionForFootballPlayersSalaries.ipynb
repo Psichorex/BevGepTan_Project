{
 "cells": [
  {
   "cell_type": "code",
   "execution_count": 3,
   "id": "bee4a29c",
   "metadata": {},
   "outputs": [],
   "source": [
    "import numpy as np"
   ]
  },
  {
   "cell_type": "code",
   "execution_count": 4,
   "id": "8437600f",
   "metadata": {},
   "outputs": [],
   "source": [
    "from sklearn.linear_model import Lasso"
   ]
  },
  {
   "cell_type": "code",
   "execution_count": 5,
   "id": "c8541edb",
   "metadata": {},
   "outputs": [],
   "source": [
    "from sklearn.model_selection import train_test_split"
   ]
  },
  {
   "cell_type": "code",
   "execution_count": 6,
   "id": "c88f3a57",
   "metadata": {},
   "outputs": [],
   "source": [
    "import pandas as pd"
   ]
  },
  {
   "cell_type": "code",
   "execution_count": 7,
   "id": "01cf6597",
   "metadata": {},
   "outputs": [],
   "source": [
    "from sklearn.metrics import mean_squared_error"
   ]
  },
  {
   "cell_type": "code",
   "execution_count": 2,
   "id": "f1df51fc",
   "metadata": {},
   "outputs": [],
   "source": [
    "import streamlit as st"
   ]
  },
  {
   "cell_type": "code",
   "execution_count": 9,
   "id": "3884fd03",
   "metadata": {},
   "outputs": [],
   "source": [
    "database = pd.read_csv('fifa_23_280922.csv') "
   ]
  },
  {
   "cell_type": "code",
   "execution_count": 10,
   "id": "af9fa1aa",
   "metadata": {},
   "outputs": [],
   "source": [
    "database['Salaire'] = database['Salaire'].replace('[\\€K]', '', regex=True).astype(float)"
   ]
  },
  {
   "cell_type": "code",
   "execution_count": 11,
   "id": "96c722eb",
   "metadata": {},
   "outputs": [],
   "source": [
    "database = database.apply(lambda x: pd.to_numeric(x, errors='coerce')).dropna(axis=1, how='all')"
   ]
  },
  {
   "cell_type": "code",
   "execution_count": 12,
   "id": "589ac6da",
   "metadata": {},
   "outputs": [],
   "source": [
    "X = database.drop('Salaire', axis = 1)"
   ]
  },
  {
   "cell_type": "code",
   "execution_count": 13,
   "id": "42be3a62",
   "metadata": {},
   "outputs": [],
   "source": [
    "y = database['Salaire']"
   ]
  },
  {
   "cell_type": "code",
   "execution_count": 14,
   "id": "20ba07e9",
   "metadata": {},
   "outputs": [],
   "source": [
    "X_train, X_test, y_train, y_test = train_test_split(X, y, test_size=0.33, random_state = 57)"
   ]
  },
  {
   "cell_type": "code",
   "execution_count": 15,
   "id": "36b60140",
   "metadata": {},
   "outputs": [],
   "source": [
    "lasso = Lasso(alpha = 1.0)"
   ]
  },
  {
   "cell_type": "code",
   "execution_count": 16,
   "id": "06d9f987",
   "metadata": {},
   "outputs": [
    {
     "data": {
      "text/plain": [
       "Lasso()"
      ]
     },
     "execution_count": 16,
     "metadata": {},
     "output_type": "execute_result"
    }
   ],
   "source": [
    "lasso.fit(X_train, y_train)"
   ]
  },
  {
   "cell_type": "code",
   "execution_count": 17,
   "id": "8e5e927a",
   "metadata": {},
   "outputs": [],
   "source": [
    "y_pred = lasso.predict(X_test)"
   ]
  },
  {
   "cell_type": "code",
   "execution_count": 18,
   "id": "6441b1fb",
   "metadata": {},
   "outputs": [
    {
     "data": {
      "text/plain": [
       "array([ 19.82024396, 190.86177442,  46.00480744, ...,  24.83135082,\n",
       "        54.68803388, 360.60742358])"
      ]
     },
     "execution_count": 18,
     "metadata": {},
     "output_type": "execute_result"
    }
   ],
   "source": [
    "y_pred"
   ]
  },
  {
   "cell_type": "code",
   "execution_count": 19,
   "id": "82ab321a",
   "metadata": {},
   "outputs": [
    {
     "name": "stdout",
     "output_type": "stream",
     "text": [
      "Slope: -9.88\n"
     ]
    }
   ],
   "source": [
    "print('Slope: %.2f' % lasso.coef_[0])"
   ]
  },
  {
   "cell_type": "code",
   "execution_count": 20,
   "id": "c10da1d1",
   "metadata": {},
   "outputs": [
    {
     "name": "stdout",
     "output_type": "stream",
     "text": [
      "Intercept: 1432.53\n"
     ]
    }
   ],
   "source": [
    "print('Intercept: %.2f' % lasso.intercept_)"
   ]
  },
  {
   "cell_type": "code",
   "execution_count": 21,
   "id": "d8c1ce40",
   "metadata": {},
   "outputs": [],
   "source": [
    "mse = mean_squared_error(y_test, y_pred)"
   ]
  },
  {
   "cell_type": "code",
   "execution_count": 22,
   "id": "f5aed93e",
   "metadata": {},
   "outputs": [
    {
     "name": "stdout",
     "output_type": "stream",
     "text": [
      "Mse: 57218.58\n"
     ]
    }
   ],
   "source": [
    "print('Mse: %.2f' % mse)"
   ]
  },
  {
   "cell_type": "code",
   "execution_count": 23,
   "id": "6acc80ab",
   "metadata": {},
   "outputs": [],
   "source": [
    "rmse = np.sqrt(mse)"
   ]
  },
  {
   "cell_type": "code",
   "execution_count": 24,
   "id": "eaad2ab0",
   "metadata": {},
   "outputs": [
    {
     "name": "stdout",
     "output_type": "stream",
     "text": [
      "Rsme: 239.20\n"
     ]
    }
   ],
   "source": [
    "print('Rsme: %.2f' % rmse)"
   ]
  },
  {
   "cell_type": "code",
   "execution_count": 25,
   "id": "0d35e879",
   "metadata": {},
   "outputs": [
    {
     "name": "stdout",
     "output_type": "stream",
     "text": [
      "Rsquared: 0.15\n"
     ]
    }
   ],
   "source": [
    "print('Rsquared: %.2f' % lasso.score(X_test, y_test))"
   ]
  },
  {
   "cell_type": "code",
   "execution_count": 3,
   "id": "93f935a0",
   "metadata": {},
   "outputs": [
    {
     "name": "stderr",
     "output_type": "stream",
     "text": [
      "2022-12-06 17:43:44.222 \n",
      "  \u001b[33m\u001b[1mWarning:\u001b[0m to view this Streamlit app on a browser, run it with the following\n",
      "  command:\n",
      "\n",
      "    streamlit run /Users/psichorex/opt/anaconda3/lib/python3.9/site-packages/ipykernel_launcher.py [ARGUMENTS]\n"
     ]
    }
   ],
   "source": [
    "st.write('ANYÁD!')"
   ]
  },
  {
   "cell_type": "code",
   "execution_count": null,
   "id": "f25188e5",
   "metadata": {},
   "outputs": [],
   "source": []
  }
 ],
 "metadata": {
  "kernelspec": {
   "display_name": "Python 3 (ipykernel)",
   "language": "python",
   "name": "python3"
  },
  "language_info": {
   "codemirror_mode": {
    "name": "ipython",
    "version": 3
   },
   "file_extension": ".py",
   "mimetype": "text/x-python",
   "name": "python",
   "nbconvert_exporter": "python",
   "pygments_lexer": "ipython3",
   "version": "3.9.13"
  }
 },
 "nbformat": 4,
 "nbformat_minor": 5
}
