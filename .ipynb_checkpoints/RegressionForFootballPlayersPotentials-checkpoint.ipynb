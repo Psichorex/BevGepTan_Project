{
 "cells": [
  {
   "cell_type": "code",
   "execution_count": 2,
   "id": "bee4a29c",
   "metadata": {},
   "outputs": [],
   "source": [
    "import numpy as np"
   ]
  },
  {
   "cell_type": "code",
   "execution_count": 3,
   "id": "8437600f",
   "metadata": {},
   "outputs": [],
   "source": [
    "from sklearn.linear_model import Lasso"
   ]
  },
  {
   "cell_type": "code",
   "execution_count": 4,
   "id": "c8541edb",
   "metadata": {},
   "outputs": [],
   "source": [
    "from sklearn.model_selection import train_test_split, cross_val_score, cross_validate"
   ]
  },
  {
   "cell_type": "code",
   "execution_count": 5,
   "id": "c88f3a57",
   "metadata": {},
   "outputs": [],
   "source": [
    "import pandas as pd"
   ]
  },
  {
   "cell_type": "code",
   "execution_count": 6,
   "id": "01cf6597",
   "metadata": {},
   "outputs": [],
   "source": [
    "from sklearn.metrics import mean_squared_error"
   ]
  },
  {
   "cell_type": "code",
   "execution_count": 7,
   "id": "f1df51fc",
   "metadata": {},
   "outputs": [],
   "source": [
    "import streamlit as st"
   ]
  },
  {
   "cell_type": "code",
   "execution_count": 8,
   "id": "82be3735",
   "metadata": {},
   "outputs": [],
   "source": [
    "from sklearn.svm import SVR"
   ]
  },
  {
   "cell_type": "code",
   "execution_count": 9,
   "id": "3884fd03",
   "metadata": {},
   "outputs": [],
   "source": [
    "database = pd.read_csv('fifa_23_280922.csv') "
   ]
  },
  {
   "cell_type": "code",
   "execution_count": 10,
   "id": "96c722eb",
   "metadata": {},
   "outputs": [],
   "source": [
    "database = database.apply(lambda x: pd.to_numeric(x, errors='coerce')).dropna(axis=1, how='all')"
   ]
  },
  {
   "cell_type": "code",
   "execution_count": 11,
   "id": "a8dc1188",
   "metadata": {},
   "outputs": [],
   "source": [
    "database  = database.drop('Taille', axis = 1)"
   ]
  },
  {
   "cell_type": "code",
   "execution_count": 12,
   "id": "49b6d864",
   "metadata": {},
   "outputs": [],
   "source": [
    "database = database.drop('Id', axis = 1)"
   ]
  },
  {
   "cell_type": "code",
   "execution_count": 13,
   "id": "589ac6da",
   "metadata": {},
   "outputs": [],
   "source": [
    "X = database.drop('Potentiel', axis = 1)"
   ]
  },
  {
   "cell_type": "code",
   "execution_count": 14,
   "id": "4ecd3b27",
   "metadata": {},
   "outputs": [
    {
     "data": {
      "text/html": [
       "<div>\n",
       "<style scoped>\n",
       "    .dataframe tbody tr th:only-of-type {\n",
       "        vertical-align: middle;\n",
       "    }\n",
       "\n",
       "    .dataframe tbody tr th {\n",
       "        vertical-align: top;\n",
       "    }\n",
       "\n",
       "    .dataframe thead th {\n",
       "        text-align: right;\n",
       "    }\n",
       "</style>\n",
       "<table border=\"1\" class=\"dataframe\">\n",
       "  <thead>\n",
       "    <tr style=\"text-align: right;\">\n",
       "      <th></th>\n",
       "      <th>Général</th>\n",
       "      <th>Performance</th>\n",
       "      <th>Mauvais pied</th>\n",
       "      <th>Gestes techniques</th>\n",
       "      <th>Centres</th>\n",
       "      <th>Finition</th>\n",
       "      <th>Precision tete</th>\n",
       "      <th>Passes courtes</th>\n",
       "      <th>Volee</th>\n",
       "      <th>Dribbles</th>\n",
       "      <th>...</th>\n",
       "      <th>Penalty</th>\n",
       "      <th>Calme</th>\n",
       "      <th>Conscience defensive</th>\n",
       "      <th>Tacle debout</th>\n",
       "      <th>Tacle glisse</th>\n",
       "      <th>Plongeon</th>\n",
       "      <th>Jeu main</th>\n",
       "      <th>Jeu pied</th>\n",
       "      <th>Placement.1</th>\n",
       "      <th>Reflexes</th>\n",
       "    </tr>\n",
       "  </thead>\n",
       "  <tbody>\n",
       "    <tr>\n",
       "      <th>0</th>\n",
       "      <td>91</td>\n",
       "      <td>93.0</td>\n",
       "      <td>4</td>\n",
       "      <td>5</td>\n",
       "      <td>78</td>\n",
       "      <td>93</td>\n",
       "      <td>72</td>\n",
       "      <td>85</td>\n",
       "      <td>83</td>\n",
       "      <td>93</td>\n",
       "      <td>...</td>\n",
       "      <td>80</td>\n",
       "      <td>88</td>\n",
       "      <td>26</td>\n",
       "      <td>34</td>\n",
       "      <td>32</td>\n",
       "      <td>13</td>\n",
       "      <td>5</td>\n",
       "      <td>7</td>\n",
       "      <td>11</td>\n",
       "      <td>6</td>\n",
       "    </tr>\n",
       "    <tr>\n",
       "      <th>1</th>\n",
       "      <td>91</td>\n",
       "      <td>91.0</td>\n",
       "      <td>4</td>\n",
       "      <td>4</td>\n",
       "      <td>71</td>\n",
       "      <td>94</td>\n",
       "      <td>91</td>\n",
       "      <td>84</td>\n",
       "      <td>89</td>\n",
       "      <td>85</td>\n",
       "      <td>...</td>\n",
       "      <td>90</td>\n",
       "      <td>88</td>\n",
       "      <td>35</td>\n",
       "      <td>42</td>\n",
       "      <td>19</td>\n",
       "      <td>15</td>\n",
       "      <td>6</td>\n",
       "      <td>12</td>\n",
       "      <td>8</td>\n",
       "      <td>10</td>\n",
       "    </tr>\n",
       "    <tr>\n",
       "      <th>2</th>\n",
       "      <td>91</td>\n",
       "      <td>91.0</td>\n",
       "      <td>4</td>\n",
       "      <td>4</td>\n",
       "      <td>75</td>\n",
       "      <td>92</td>\n",
       "      <td>90</td>\n",
       "      <td>89</td>\n",
       "      <td>88</td>\n",
       "      <td>87</td>\n",
       "      <td>...</td>\n",
       "      <td>84</td>\n",
       "      <td>90</td>\n",
       "      <td>43</td>\n",
       "      <td>24</td>\n",
       "      <td>18</td>\n",
       "      <td>13</td>\n",
       "      <td>11</td>\n",
       "      <td>5</td>\n",
       "      <td>5</td>\n",
       "      <td>7</td>\n",
       "    </tr>\n",
       "    <tr>\n",
       "      <th>3</th>\n",
       "      <td>91</td>\n",
       "      <td>91.0</td>\n",
       "      <td>4</td>\n",
       "      <td>4</td>\n",
       "      <td>84</td>\n",
       "      <td>90</td>\n",
       "      <td>70</td>\n",
       "      <td>91</td>\n",
       "      <td>88</td>\n",
       "      <td>95</td>\n",
       "      <td>...</td>\n",
       "      <td>75</td>\n",
       "      <td>96</td>\n",
       "      <td>20</td>\n",
       "      <td>35</td>\n",
       "      <td>24</td>\n",
       "      <td>6</td>\n",
       "      <td>11</td>\n",
       "      <td>15</td>\n",
       "      <td>14</td>\n",
       "      <td>8</td>\n",
       "    </tr>\n",
       "    <tr>\n",
       "      <th>4</th>\n",
       "      <td>91</td>\n",
       "      <td>91.0</td>\n",
       "      <td>5</td>\n",
       "      <td>4</td>\n",
       "      <td>94</td>\n",
       "      <td>85</td>\n",
       "      <td>55</td>\n",
       "      <td>93</td>\n",
       "      <td>83</td>\n",
       "      <td>88</td>\n",
       "      <td>...</td>\n",
       "      <td>83</td>\n",
       "      <td>89</td>\n",
       "      <td>68</td>\n",
       "      <td>65</td>\n",
       "      <td>53</td>\n",
       "      <td>15</td>\n",
       "      <td>13</td>\n",
       "      <td>5</td>\n",
       "      <td>10</td>\n",
       "      <td>13</td>\n",
       "    </tr>\n",
       "  </tbody>\n",
       "</table>\n",
       "<p>5 rows × 38 columns</p>\n",
       "</div>"
      ],
      "text/plain": [
       "   Général  Performance  Mauvais pied  Gestes techniques  Centres  Finition  \\\n",
       "0       91         93.0             4                  5       78        93   \n",
       "1       91         91.0             4                  4       71        94   \n",
       "2       91         91.0             4                  4       75        92   \n",
       "3       91         91.0             4                  4       84        90   \n",
       "4       91         91.0             5                  4       94        85   \n",
       "\n",
       "   Precision tete  Passes courtes  Volee  Dribbles  ...  Penalty  Calme  \\\n",
       "0              72              85     83        93  ...       80     88   \n",
       "1              91              84     89        85  ...       90     88   \n",
       "2              90              89     88        87  ...       84     90   \n",
       "3              70              91     88        95  ...       75     96   \n",
       "4              55              93     83        88  ...       83     89   \n",
       "\n",
       "   Conscience defensive  Tacle debout  Tacle glisse  Plongeon  Jeu main  \\\n",
       "0                    26            34            32        13         5   \n",
       "1                    35            42            19        15         6   \n",
       "2                    43            24            18        13        11   \n",
       "3                    20            35            24         6        11   \n",
       "4                    68            65            53        15        13   \n",
       "\n",
       "   Jeu pied  Placement.1  Reflexes  \n",
       "0         7           11         6  \n",
       "1        12            8        10  \n",
       "2         5            5         7  \n",
       "3        15           14         8  \n",
       "4         5           10        13  \n",
       "\n",
       "[5 rows x 38 columns]"
      ]
     },
     "execution_count": 14,
     "metadata": {},
     "output_type": "execute_result"
    }
   ],
   "source": [
    "X.head()"
   ]
  },
  {
   "cell_type": "code",
   "execution_count": 15,
   "id": "42be3a62",
   "metadata": {},
   "outputs": [],
   "source": [
    "y = database['Potentiel']"
   ]
  },
  {
   "cell_type": "code",
   "execution_count": 16,
   "id": "355b6454",
   "metadata": {},
   "outputs": [
    {
     "data": {
      "text/plain": [
       "0    95\n",
       "1    91\n",
       "2    91\n",
       "3    91\n",
       "4    91\n",
       "Name: Potentiel, dtype: int64"
      ]
     },
     "execution_count": 16,
     "metadata": {},
     "output_type": "execute_result"
    }
   ],
   "source": [
    "y.head()"
   ]
  },
  {
   "cell_type": "code",
   "execution_count": 17,
   "id": "20ba07e9",
   "metadata": {},
   "outputs": [],
   "source": [
    "X_train, X_test, y_train, y_test = train_test_split(X, y, test_size=0.33, random_state = 42)"
   ]
  },
  {
   "cell_type": "code",
   "execution_count": 18,
   "id": "36b60140",
   "metadata": {},
   "outputs": [],
   "source": [
    "lasso = Lasso(max_iter=10000, tol= 0.001, alpha = 1.0)"
   ]
  },
  {
   "cell_type": "code",
   "execution_count": 19,
   "id": "06d9f987",
   "metadata": {},
   "outputs": [
    {
     "data": {
      "text/plain": [
       "Lasso(max_iter=10000, tol=0.001)"
      ]
     },
     "execution_count": 19,
     "metadata": {},
     "output_type": "execute_result"
    }
   ],
   "source": [
    "lasso.fit(X_train, y_train)"
   ]
  },
  {
   "cell_type": "code",
   "execution_count": 20,
   "id": "8e5e927a",
   "metadata": {},
   "outputs": [],
   "source": [
    "y_pred = lasso.predict(X_test)"
   ]
  },
  {
   "cell_type": "code",
   "execution_count": 21,
   "id": "6441b1fb",
   "metadata": {},
   "outputs": [
    {
     "data": {
      "text/plain": [
       "array([73.55957947, 73.4180258 , 78.10429977, ..., 66.66378986,\n",
       "       71.73444973, 83.32485322])"
      ]
     },
     "execution_count": 21,
     "metadata": {},
     "output_type": "execute_result"
    }
   ],
   "source": [
    "y_pred"
   ]
  },
  {
   "cell_type": "code",
   "execution_count": 22,
   "id": "1745f9bd",
   "metadata": {},
   "outputs": [],
   "source": [
    "crossVal = cross_validate(lasso, X, y, cv=10, return_train_score=True)"
   ]
  },
  {
   "cell_type": "code",
   "execution_count": 23,
   "id": "8e61d93e",
   "metadata": {},
   "outputs": [
    {
     "name": "stdout",
     "output_type": "stream",
     "text": [
      "{'fit_time': array([0.22306705, 0.36691999, 0.28581381, 0.31896591, 0.29844713,\n",
      "       0.27906585, 0.26424599, 0.27478194, 0.26867199, 0.17308116]), 'score_time': array([0.00133681, 0.00166607, 0.00209212, 0.00127983, 0.00199413,\n",
      "       0.00192928, 0.00249171, 0.00121975, 0.00248718, 0.00253081]), 'test_score': array([0.94452241, 0.91035615, 0.91421999, 0.91276582, 0.90119254,\n",
      "       0.90001661, 0.9118007 , 0.90096586, 0.9095131 , 0.93951911]), 'train_score': array([0.97635875, 0.98239375, 0.98345783, 0.98380535, 0.98378283,\n",
      "       0.9839647 , 0.9837373 , 0.98287453, 0.98201675, 0.9772184 ])}\n"
     ]
    }
   ],
   "source": [
    "print(crossVal)"
   ]
  },
  {
   "cell_type": "code",
   "execution_count": 24,
   "id": "025187bd",
   "metadata": {},
   "outputs": [
    {
     "name": "stdout",
     "output_type": "stream",
     "text": [
      "0.9819610190939783\n"
     ]
    }
   ],
   "source": [
    "print(np.average(crossVal['train_score']))"
   ]
  },
  {
   "cell_type": "code",
   "execution_count": 25,
   "id": "b8bbee6b",
   "metadata": {},
   "outputs": [
    {
     "name": "stdout",
     "output_type": "stream",
     "text": [
      "0.9144872293300159\n"
     ]
    }
   ],
   "source": [
    "print(np.average(crossVal['test_score']))"
   ]
  },
  {
   "cell_type": "code",
   "execution_count": 26,
   "id": "9171a460",
   "metadata": {},
   "outputs": [],
   "source": [
    "player = { 81, 23, 34, 66, 67, 79}"
   ]
  },
  {
   "cell_type": "code",
   "execution_count": 27,
   "id": "fa518347",
   "metadata": {},
   "outputs": [
    {
     "name": "stdout",
     "output_type": "stream",
     "text": [
      "<class 'set'>\n"
     ]
    }
   ],
   "source": [
    "print(type(player))"
   ]
  },
  {
   "cell_type": "code",
   "execution_count": null,
   "id": "6fb3d19c",
   "metadata": {},
   "outputs": [],
   "source": []
  }
 ],
 "metadata": {
  "kernelspec": {
   "display_name": "Python 3 (ipykernel)",
   "language": "python",
   "name": "python3"
  },
  "language_info": {
   "codemirror_mode": {
    "name": "ipython",
    "version": 3
   },
   "file_extension": ".py",
   "mimetype": "text/x-python",
   "name": "python",
   "nbconvert_exporter": "python",
   "pygments_lexer": "ipython3",
   "version": "3.9.13"
  }
 },
 "nbformat": 4,
 "nbformat_minor": 5
}
